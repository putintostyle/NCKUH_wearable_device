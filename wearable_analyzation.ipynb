{
 "cells": [
  {
   "cell_type": "code",
   "execution_count": 11,
   "metadata": {},
   "outputs": [],
   "source": [
    "import pandas as pd\n",
    "import numpy as np\n",
    "import shutil\n",
    "import datetime\n",
    "import os\n",
    "import csv\n",
    "import matplotlib.pyplot as plt"
   ]
  },
  {
   "cell_type": "code",
   "execution_count": 20,
   "metadata": {},
   "outputs": [],
   "source": [
    "# 主要函式\n",
    "# path為要讀取的資料夾 此資料夾包含所有病患的資料夾\n",
    "# time_step為時間間隔 單位為分鐘 請輸入20 or 30 ...\n",
    "def box_plot(path, time_step, year=datetime.datetime.now().year, month=datetime.datetime.now().month, day=datetime.datetime.now().day\n",
    "             , hours=datetime.datetime.now().hour, minutes=datetime.datetime.now().minute):\n",
    "    now = datetime.datetime(year, month, day, hours, minutes)\n",
    "    \n",
    "    if os.path.isdir(path + '_plot') :\n",
    "        shutil.rmtree(path + '_plot', ignore_errors=True)\n",
    "    os.mkdir( path + '_plot') # 圖檔要存的地方 建立一個新的資料夾\n",
    "    \n",
    "    pid_list = os.listdir(path) \n",
    "    for pid in pid_list: # 進入每一個資料夾\n",
    "        if 'check' in pid: continue\n",
    "        path2 = path + '/' + pid\n",
    "        \n",
    "        csv_num = 0 # 有幾個csv檔\n",
    "        for i in os.listdir(path2):\n",
    "            if 'csv' in i: csv_num+=1\n",
    "        if csv_num>1:# 如果有兩個以上的csv 則將所有的csv彙整成一個csv\n",
    "            gather_csv(path2)\n",
    "        \n",
    "        for file in os.listdir(path2):\n",
    "            if 'check' in file: continue\n",
    "            if 'xlsx' in file: continue\n",
    "            df = pd.read_csv( path + '/' + pid + '/' + file, header = None)\n",
    "#             dataframe的標題分別對應到的值\n",
    "#             0  1    2    3  4    5 \n",
    "#             ID date time hp temp move\n",
    "            df[1] = [datetime.datetime.strptime(i, '%Y-%m-%d') for i in df[1].values]\n",
    "            df[2] = [datetime.datetime.strptime(i, '%H:%M:%S').time() for i in df[2].values]\n",
    "            os.mkdir( path + '_plot/' + pid[:4]) # 一個人的圖分別存在一個新的資料夾\n",
    "\n",
    "            date_list = list(dict.fromkeys(df[1].values))\n",
    "            \n",
    "            start = datetime.datetime(year, month, day, 8, 0)\n",
    "            steps = int(np.floor((now-start)/datetime.timedelta(minutes = time_step)))\n",
    "            hour_list = np.array([ start +datetime.timedelta(minutes=i*time_step) for i in range(int(steps))]) # 從早上8.開始到你輸入所需時間的區間\n",
    "            med_data = [] # med_data = [['date', 'time', 'q1', 'q3', 'medians']]\n",
    "            for d_idx in range(len(date_list)):\n",
    "                date = df[1].values\n",
    "                d_filter = (date>=date_list[d_idx])&(date<(date_list[d_idx]+np.timedelta64(1,'D')))\n",
    "                time_zone = 'From '+np.datetime_as_string(date_list[d_idx], unit = 'D')+' to '+np.datetime_as_string(date_list[d_idx]+np.timedelta64(1,'D'), unit = 'D')\n",
    "\n",
    "                data = (df[4].values.astype('int'))[d_filter] # each temp data\n",
    "                hour = (df[2].values)[d_filter] # each date each hour\n",
    "                data = [i/100 for i in data.astype('int')]\n",
    "                data = np.asarray(data) # 將溫度換算成小數點\n",
    "\n",
    "                each_hour = []\n",
    "                for h_idx in hour_list:\n",
    "                    h_filter = (hour>=h_idx.time())&(hour<(h_idx+datetime.timedelta(hours = 1)).time())\n",
    "                    tmp = data[(h_filter)&(np.array(data)>25)&(np.array(data)<45)]\n",
    "                    each_hour.append(tmp)\n",
    "\n",
    "                # 開始畫圖\n",
    "                plt.figure(figsize = (15,8))\n",
    "                plt.plot(np.linspace(1, steps, steps), [35 for i in range(steps)], 'g:')\n",
    "                box_plot = plt.boxplot(each_hour, flierprops  = dict(markerfacecolor = 'b', marker = '.'))\n",
    "                \n",
    "#                 將medians, q1, q3分別記錄下來 並存成csv\n",
    "                \n",
    "                for q_idx in range(len(box_plot['medians'])):\n",
    "                    med = box_plot['medians'][q_idx].get_ydata()\n",
    "                    q1 = box_plot['whiskers'][2*q_idx].get_ydata()\n",
    "                    q3 = box_plot['whiskers'][2*q_idx+1].get_ydata()\n",
    "                    tmp = [np.datetime_as_string(date_list[d_idx], unit = 'D'), q_idx+1, q1[0], q3[0], med[0]]\n",
    "                    med_data.append(tmp)\n",
    "#                 存成圖檔\n",
    "                \n",
    "                \n",
    "                time_tag = [datetime.datetime.strftime(i, \"%H:%M\") for i in hour_list]\n",
    "                plt.xticks(np.linspace(1, steps, steps), time_tag, rotation='vertical')\n",
    "                plt.xlabel('Hours')\n",
    "                plt.ylabel('Temperature')\n",
    "                plt.suptitle(time_zone)\n",
    "                plt.savefig( path + '_plot/' +  pid[:4] + '/' +  pid[:4] +' box plot '+time_zone+'.png') # 存檔名稱\n",
    "                plt.clf()\n",
    "        #             plt.show()\n",
    "        #     print(time_zone)\n",
    "            with open(pid[:4] + '_medians.csv' , 'w', newline='') as csvfile:\n",
    "                    writer = csv.writer(csvfile)\n",
    "                    med_df = pd.DataFrame(med_data)\n",
    "                    print (med_df)\n",
    "                    writer.writerows(med_data)"
   ]
  },
  {
   "cell_type": "code",
   "execution_count": 22,
   "metadata": {},
   "outputs": [
    {
     "name": "stdout",
     "output_type": "stream",
     "text": [
      "              0   1   2   3   4\n",
      "0    2020-02-04   1 NaN NaN NaN\n",
      "1    2020-02-04   2 NaN NaN NaN\n",
      "2    2020-02-04   3 NaN NaN NaN\n",
      "3    2020-02-04   4 NaN NaN NaN\n",
      "4    2020-02-04   5 NaN NaN NaN\n",
      "5    2020-02-04   6 NaN NaN NaN\n",
      "6    2020-02-04   7 NaN NaN NaN\n",
      "7    2020-02-04   8 NaN NaN NaN\n",
      "8    2020-02-04   9 NaN NaN NaN\n",
      "9    2020-02-04  10 NaN NaN NaN\n",
      "10   2020-02-04  11 NaN NaN NaN\n",
      "11   2020-02-04  12 NaN NaN NaN\n",
      "12   2020-02-04  13 NaN NaN NaN\n",
      "13   2020-02-04  14 NaN NaN NaN\n",
      "14   2020-02-04  15 NaN NaN NaN\n",
      "15   2020-02-04  16 NaN NaN NaN\n",
      "16   2020-02-04  17 NaN NaN NaN\n",
      "17   2020-02-04  18 NaN NaN NaN\n",
      "18   2020-02-04  19 NaN NaN NaN\n",
      "19   2020-02-04  20 NaN NaN NaN\n",
      "20   2020-02-04  21 NaN NaN NaN\n",
      "21   2020-02-04  22 NaN NaN NaN\n",
      "22   2020-02-04  23 NaN NaN NaN\n",
      "23   2020-02-04  24 NaN NaN NaN\n",
      "24   2020-02-04  25 NaN NaN NaN\n",
      "25   2020-02-04  26 NaN NaN NaN\n",
      "26   2020-02-04  27 NaN NaN NaN\n",
      "27   2020-02-04  28 NaN NaN NaN\n",
      "28   2020-02-04  29 NaN NaN NaN\n",
      "29   2020-02-04  30 NaN NaN NaN\n",
      "..          ...  ..  ..  ..  ..\n",
      "225  2020-02-06  56 NaN NaN NaN\n",
      "226  2020-02-06  57 NaN NaN NaN\n",
      "227  2020-02-06  58 NaN NaN NaN\n",
      "228  2020-02-06  59 NaN NaN NaN\n",
      "229  2020-02-06  60 NaN NaN NaN\n",
      "230  2020-02-06  61 NaN NaN NaN\n",
      "231  2020-02-06  62 NaN NaN NaN\n",
      "232  2020-02-06  63 NaN NaN NaN\n",
      "233  2020-02-06  64 NaN NaN NaN\n",
      "234  2020-02-06  65 NaN NaN NaN\n",
      "235  2020-02-06  66 NaN NaN NaN\n",
      "236  2020-02-06  67 NaN NaN NaN\n",
      "237  2020-02-06  68 NaN NaN NaN\n",
      "238  2020-02-06  69 NaN NaN NaN\n",
      "239  2020-02-06  70 NaN NaN NaN\n",
      "240  2020-02-06  71 NaN NaN NaN\n",
      "241  2020-02-06  72 NaN NaN NaN\n",
      "242  2020-02-06  73 NaN NaN NaN\n",
      "243  2020-02-06  74 NaN NaN NaN\n",
      "244  2020-02-06  75 NaN NaN NaN\n",
      "245  2020-02-06  76 NaN NaN NaN\n",
      "246  2020-02-06  77 NaN NaN NaN\n",
      "247  2020-02-06  78 NaN NaN NaN\n",
      "248  2020-02-06  79 NaN NaN NaN\n",
      "249  2020-02-06  80 NaN NaN NaN\n",
      "250  2020-02-06  81 NaN NaN NaN\n",
      "251  2020-02-06  82 NaN NaN NaN\n",
      "252  2020-02-06  83 NaN NaN NaN\n",
      "253  2020-02-06  84 NaN NaN NaN\n",
      "254  2020-02-06  85 NaN NaN NaN\n",
      "\n",
      "[255 rows x 5 columns]\n",
      "              0   1   2   3   4\n",
      "0    2020-01-23   1 NaN NaN NaN\n",
      "1    2020-01-23   2 NaN NaN NaN\n",
      "2    2020-01-23   3 NaN NaN NaN\n",
      "3    2020-01-23   4 NaN NaN NaN\n",
      "4    2020-01-23   5 NaN NaN NaN\n",
      "5    2020-01-23   6 NaN NaN NaN\n",
      "6    2020-01-23   7 NaN NaN NaN\n",
      "7    2020-01-23   8 NaN NaN NaN\n",
      "8    2020-01-23   9 NaN NaN NaN\n",
      "9    2020-01-23  10 NaN NaN NaN\n",
      "10   2020-01-23  11 NaN NaN NaN\n",
      "11   2020-01-23  12 NaN NaN NaN\n",
      "12   2020-01-23  13 NaN NaN NaN\n",
      "13   2020-01-23  14 NaN NaN NaN\n",
      "14   2020-01-23  15 NaN NaN NaN\n",
      "15   2020-01-23  16 NaN NaN NaN\n",
      "16   2020-01-23  17 NaN NaN NaN\n",
      "17   2020-01-23  18 NaN NaN NaN\n",
      "18   2020-01-23  19 NaN NaN NaN\n",
      "19   2020-01-23  20 NaN NaN NaN\n",
      "20   2020-01-23  21 NaN NaN NaN\n",
      "21   2020-01-23  22 NaN NaN NaN\n",
      "22   2020-01-23  23 NaN NaN NaN\n",
      "23   2020-01-23  24 NaN NaN NaN\n",
      "24   2020-01-23  25 NaN NaN NaN\n",
      "25   2020-01-23  26 NaN NaN NaN\n",
      "26   2020-01-23  27 NaN NaN NaN\n",
      "27   2020-01-23  28 NaN NaN NaN\n",
      "28   2020-01-23  29 NaN NaN NaN\n",
      "29   2020-01-23  30 NaN NaN NaN\n",
      "..          ...  ..  ..  ..  ..\n",
      "480  2020-01-28  56 NaN NaN NaN\n",
      "481  2020-01-28  57 NaN NaN NaN\n",
      "482  2020-01-28  58 NaN NaN NaN\n",
      "483  2020-01-28  59 NaN NaN NaN\n",
      "484  2020-01-28  60 NaN NaN NaN\n",
      "485  2020-01-28  61 NaN NaN NaN\n",
      "486  2020-01-28  62 NaN NaN NaN\n",
      "487  2020-01-28  63 NaN NaN NaN\n",
      "488  2020-01-28  64 NaN NaN NaN\n",
      "489  2020-01-28  65 NaN NaN NaN\n",
      "490  2020-01-28  66 NaN NaN NaN\n",
      "491  2020-01-28  67 NaN NaN NaN\n",
      "492  2020-01-28  68 NaN NaN NaN\n",
      "493  2020-01-28  69 NaN NaN NaN\n",
      "494  2020-01-28  70 NaN NaN NaN\n",
      "495  2020-01-28  71 NaN NaN NaN\n",
      "496  2020-01-28  72 NaN NaN NaN\n",
      "497  2020-01-28  73 NaN NaN NaN\n",
      "498  2020-01-28  74 NaN NaN NaN\n",
      "499  2020-01-28  75 NaN NaN NaN\n",
      "500  2020-01-28  76 NaN NaN NaN\n",
      "501  2020-01-28  77 NaN NaN NaN\n",
      "502  2020-01-28  78 NaN NaN NaN\n",
      "503  2020-01-28  79 NaN NaN NaN\n",
      "504  2020-01-28  80 NaN NaN NaN\n",
      "505  2020-01-28  81 NaN NaN NaN\n",
      "506  2020-01-28  82 NaN NaN NaN\n",
      "507  2020-01-28  83 NaN NaN NaN\n",
      "508  2020-01-28  84 NaN NaN NaN\n",
      "509  2020-01-28  85 NaN NaN NaN\n",
      "\n",
      "[510 rows x 5 columns]\n",
      "              0   1      2        3      4\n",
      "0    2020-01-28   1    NaN      NaN    NaN\n",
      "1    2020-01-28   2    NaN      NaN    NaN\n",
      "2    2020-01-28   3    NaN      NaN    NaN\n",
      "3    2020-01-28   4    NaN      NaN    NaN\n",
      "4    2020-01-28   5    NaN      NaN    NaN\n",
      "5    2020-01-28   6    NaN      NaN    NaN\n",
      "6    2020-01-28   7    NaN      NaN    NaN\n",
      "7    2020-01-28   8    NaN      NaN    NaN\n",
      "8    2020-01-28   9    NaN      NaN    NaN\n",
      "9    2020-01-28  10    NaN      NaN    NaN\n",
      "10   2020-01-28  11    NaN      NaN    NaN\n",
      "11   2020-01-28  12    NaN      NaN    NaN\n",
      "12   2020-01-28  13    NaN      NaN    NaN\n",
      "13   2020-01-28  14    NaN      NaN    NaN\n",
      "14   2020-01-28  15    NaN      NaN    NaN\n",
      "15   2020-01-28  16    NaN      NaN    NaN\n",
      "16   2020-01-28  17    NaN      NaN    NaN\n",
      "17   2020-01-28  18    NaN      NaN    NaN\n",
      "18   2020-01-28  19    NaN      NaN    NaN\n",
      "19   2020-01-28  20    NaN      NaN    NaN\n",
      "20   2020-01-28  21    NaN      NaN    NaN\n",
      "21   2020-01-28  22    NaN      NaN    NaN\n",
      "22   2020-01-28  23    NaN      NaN    NaN\n",
      "23   2020-01-28  24    NaN      NaN    NaN\n",
      "24   2020-01-28  25    NaN      NaN    NaN\n",
      "25   2020-01-28  26    NaN      NaN    NaN\n",
      "26   2020-01-28  27    NaN      NaN    NaN\n",
      "27   2020-01-28  28    NaN      NaN    NaN\n",
      "28   2020-01-28  29    NaN      NaN    NaN\n",
      "29   2020-01-28  30    NaN      NaN    NaN\n",
      "..          ...  ..    ...      ...    ...\n",
      "225  2020-01-30  56    NaN      NaN    NaN\n",
      "226  2020-01-30  57    NaN      NaN    NaN\n",
      "227  2020-01-30  58  25.82  30.5175  27.12\n",
      "228  2020-01-30  59  25.90  29.9850  27.24\n",
      "229  2020-01-30  60  25.90  29.9850  27.24\n",
      "230  2020-01-30  61  25.90  29.9850  27.24\n",
      "231  2020-01-30  62  25.90  29.9850  27.24\n",
      "232  2020-01-30  63  25.90  29.9850  27.24\n",
      "233  2020-01-30  64  28.91  28.9100  28.91\n",
      "234  2020-01-30  65    NaN      NaN    NaN\n",
      "235  2020-01-30  66    NaN      NaN    NaN\n",
      "236  2020-01-30  67    NaN      NaN    NaN\n",
      "237  2020-01-30  68    NaN      NaN    NaN\n",
      "238  2020-01-30  69    NaN      NaN    NaN\n",
      "239  2020-01-30  70    NaN      NaN    NaN\n",
      "240  2020-01-30  71    NaN      NaN    NaN\n",
      "241  2020-01-30  72    NaN      NaN    NaN\n",
      "242  2020-01-30  73    NaN      NaN    NaN\n",
      "243  2020-01-30  74    NaN      NaN    NaN\n",
      "244  2020-01-30  75  25.97  26.7700  26.37\n",
      "245  2020-01-30  76  25.97  26.7700  26.37\n",
      "246  2020-01-30  77  25.97  26.7700  26.37\n",
      "247  2020-01-30  78  25.97  26.7700  26.37\n",
      "248  2020-01-30  79  25.97  26.7700  26.37\n",
      "249  2020-01-30  80  25.97  26.7700  26.37\n",
      "250  2020-01-30  81    NaN      NaN    NaN\n",
      "251  2020-01-30  82    NaN      NaN    NaN\n",
      "252  2020-01-30  83    NaN      NaN    NaN\n",
      "253  2020-01-30  84    NaN      NaN    NaN\n",
      "254  2020-01-30  85    NaN      NaN    NaN\n",
      "\n",
      "[255 rows x 5 columns]\n",
      "              0   1        2        3       4\n",
      "0    2020-02-03   1      NaN      NaN     NaN\n",
      "1    2020-02-03   2      NaN      NaN     NaN\n",
      "2    2020-02-03   3      NaN      NaN     NaN\n",
      "3    2020-02-03   4      NaN      NaN     NaN\n",
      "4    2020-02-03   5      NaN      NaN     NaN\n",
      "5    2020-02-03   6      NaN      NaN     NaN\n",
      "6    2020-02-03   7      NaN      NaN     NaN\n",
      "7    2020-02-03   8  25.5000  25.5000  25.500\n",
      "8    2020-02-03   9  25.5000  25.5000  25.500\n",
      "9    2020-02-03  10  25.5000  25.5000  25.500\n",
      "10   2020-02-03  11  25.5000  25.5000  25.500\n",
      "11   2020-02-03  12  25.5000  25.5000  25.500\n",
      "12   2020-02-03  13  25.5000  25.5000  25.500\n",
      "13   2020-02-03  14      NaN      NaN     NaN\n",
      "14   2020-02-03  15      NaN      NaN     NaN\n",
      "15   2020-02-03  16  27.7600  27.9400  27.860\n",
      "16   2020-02-03  17  27.8300  28.2700  27.880\n",
      "17   2020-02-03  18  27.8600  28.5200  28.290\n",
      "18   2020-02-03  19  27.9000  29.4100  28.430\n",
      "19   2020-02-03  20  28.1900  29.3500  28.440\n",
      "20   2020-02-03  21  28.2200  29.1700  28.440\n",
      "21   2020-02-03  22  28.3475  29.1225  28.470\n",
      "22   2020-02-03  23  28.3375  29.1225  28.480\n",
      "23   2020-02-03  24  28.3100  28.6300  28.480\n",
      "24   2020-02-03  25  28.2800  28.5300  28.425\n",
      "25   2020-02-03  26  28.2800  28.5700  28.470\n",
      "26   2020-02-03  27  28.3000  28.5900  28.470\n",
      "27   2020-02-03  28  28.3275  28.6525  28.530\n",
      "28   2020-02-03  29  28.4500  28.7500  28.610\n",
      "29   2020-02-03  30  28.5300  28.7725  28.695\n",
      "..          ...  ..      ...      ...     ...\n",
      "225  2020-02-05  56      NaN      NaN     NaN\n",
      "226  2020-02-05  57      NaN      NaN     NaN\n",
      "227  2020-02-05  58      NaN      NaN     NaN\n",
      "228  2020-02-05  59      NaN      NaN     NaN\n",
      "229  2020-02-05  60      NaN      NaN     NaN\n",
      "230  2020-02-05  61      NaN      NaN     NaN\n",
      "231  2020-02-05  62      NaN      NaN     NaN\n",
      "232  2020-02-05  63      NaN      NaN     NaN\n",
      "233  2020-02-05  64      NaN      NaN     NaN\n",
      "234  2020-02-05  65      NaN      NaN     NaN\n",
      "235  2020-02-05  66      NaN      NaN     NaN\n",
      "236  2020-02-05  67      NaN      NaN     NaN\n",
      "237  2020-02-05  68      NaN      NaN     NaN\n",
      "238  2020-02-05  69      NaN      NaN     NaN\n",
      "239  2020-02-05  70      NaN      NaN     NaN\n",
      "240  2020-02-05  71      NaN      NaN     NaN\n",
      "241  2020-02-05  72      NaN      NaN     NaN\n",
      "242  2020-02-05  73      NaN      NaN     NaN\n",
      "243  2020-02-05  74      NaN      NaN     NaN\n",
      "244  2020-02-05  75      NaN      NaN     NaN\n",
      "245  2020-02-05  76      NaN      NaN     NaN\n",
      "246  2020-02-05  77      NaN      NaN     NaN\n",
      "247  2020-02-05  78      NaN      NaN     NaN\n",
      "248  2020-02-05  79      NaN      NaN     NaN\n",
      "249  2020-02-05  80      NaN      NaN     NaN\n",
      "250  2020-02-05  81      NaN      NaN     NaN\n",
      "251  2020-02-05  82      NaN      NaN     NaN\n",
      "252  2020-02-05  83      NaN      NaN     NaN\n",
      "253  2020-02-05  84      NaN      NaN     NaN\n",
      "254  2020-02-05  85      NaN      NaN     NaN\n",
      "\n",
      "[255 rows x 5 columns]\n",
      "              0   1        2        3       4\n",
      "0    2020-01-31   1      NaN      NaN     NaN\n",
      "1    2020-01-31   2      NaN      NaN     NaN\n",
      "2    2020-01-31   3      NaN      NaN     NaN\n",
      "3    2020-01-31   4      NaN      NaN     NaN\n",
      "4    2020-01-31   5      NaN      NaN     NaN\n",
      "5    2020-01-31   6      NaN      NaN     NaN\n",
      "6    2020-01-31   7      NaN      NaN     NaN\n",
      "7    2020-01-31   8      NaN      NaN     NaN\n",
      "8    2020-01-31   9      NaN      NaN     NaN\n",
      "9    2020-01-31  10      NaN      NaN     NaN\n",
      "10   2020-01-31  11      NaN      NaN     NaN\n",
      "11   2020-01-31  12      NaN      NaN     NaN\n",
      "12   2020-01-31  13      NaN      NaN     NaN\n",
      "13   2020-01-31  14      NaN      NaN     NaN\n",
      "14   2020-01-31  15      NaN      NaN     NaN\n",
      "15   2020-01-31  16      NaN      NaN     NaN\n",
      "16   2020-01-31  17      NaN      NaN     NaN\n",
      "17   2020-01-31  18      NaN      NaN     NaN\n",
      "18   2020-01-31  19      NaN      NaN     NaN\n",
      "19   2020-01-31  20  25.0300  25.0300  25.030\n",
      "20   2020-01-31  21  32.9500  34.1500  33.650\n",
      "21   2020-01-31  22  33.4200  34.0800  33.710\n",
      "22   2020-01-31  23  33.6100  34.4600  34.060\n",
      "23   2020-01-31  24  33.7400  34.8300  34.310\n",
      "24   2020-01-31  25  33.9200  34.7800  34.560\n",
      "25   2020-01-31  26  34.0950  34.8400  34.650\n",
      "26   2020-01-31  27  34.5275  34.9925  34.770\n",
      "27   2020-01-31  28  34.6875  35.1400  34.880\n",
      "28   2020-01-31  29  34.7975  35.3000  35.065\n",
      "29   2020-01-31  30  34.8100  35.2700  35.100\n",
      "..          ...  ..      ...      ...     ...\n",
      "480  2020-02-05  56      NaN      NaN     NaN\n",
      "481  2020-02-05  57      NaN      NaN     NaN\n",
      "482  2020-02-05  58      NaN      NaN     NaN\n",
      "483  2020-02-05  59      NaN      NaN     NaN\n",
      "484  2020-02-05  60      NaN      NaN     NaN\n",
      "485  2020-02-05  61      NaN      NaN     NaN\n",
      "486  2020-02-05  62      NaN      NaN     NaN\n",
      "487  2020-02-05  63      NaN      NaN     NaN\n",
      "488  2020-02-05  64      NaN      NaN     NaN\n",
      "489  2020-02-05  65      NaN      NaN     NaN\n",
      "490  2020-02-05  66      NaN      NaN     NaN\n",
      "491  2020-02-05  67      NaN      NaN     NaN\n",
      "492  2020-02-05  68      NaN      NaN     NaN\n",
      "493  2020-02-05  69      NaN      NaN     NaN\n",
      "494  2020-02-05  70      NaN      NaN     NaN\n",
      "495  2020-02-05  71      NaN      NaN     NaN\n",
      "496  2020-02-05  72      NaN      NaN     NaN\n",
      "497  2020-02-05  73      NaN      NaN     NaN\n",
      "498  2020-02-05  74      NaN      NaN     NaN\n",
      "499  2020-02-05  75      NaN      NaN     NaN\n",
      "500  2020-02-05  76      NaN      NaN     NaN\n",
      "501  2020-02-05  77      NaN      NaN     NaN\n",
      "502  2020-02-05  78      NaN      NaN     NaN\n",
      "503  2020-02-05  79      NaN      NaN     NaN\n",
      "504  2020-02-05  80      NaN      NaN     NaN\n",
      "505  2020-02-05  81      NaN      NaN     NaN\n",
      "506  2020-02-05  82      NaN      NaN     NaN\n",
      "507  2020-02-05  83      NaN      NaN     NaN\n",
      "508  2020-02-05  84      NaN      NaN     NaN\n",
      "509  2020-02-05  85      NaN      NaN     NaN\n",
      "\n",
      "[510 rows x 5 columns]\n",
      "              0   1        2        3      4\n",
      "0    2020-01-31   1      NaN      NaN    NaN\n",
      "1    2020-01-31   2      NaN      NaN    NaN\n",
      "2    2020-01-31   3      NaN      NaN    NaN\n",
      "3    2020-01-31   4      NaN      NaN    NaN\n",
      "4    2020-01-31   5      NaN      NaN    NaN\n",
      "5    2020-01-31   6      NaN      NaN    NaN\n",
      "6    2020-01-31   7      NaN      NaN    NaN\n",
      "7    2020-01-31   8      NaN      NaN    NaN\n",
      "8    2020-01-31   9      NaN      NaN    NaN\n",
      "9    2020-01-31  10      NaN      NaN    NaN\n",
      "10   2020-01-31  11      NaN      NaN    NaN\n",
      "11   2020-01-31  12      NaN      NaN    NaN\n",
      "12   2020-01-31  13  26.1450  27.3800  27.27\n",
      "13   2020-01-31  14  26.1450  27.3800  27.27\n",
      "14   2020-01-31  15  26.1450  27.3800  27.27\n",
      "15   2020-01-31  16  26.1450  27.3800  27.27\n",
      "16   2020-01-31  17  26.1450  27.3800  27.27\n",
      "17   2020-01-31  18  26.1450  27.3800  27.27\n",
      "18   2020-01-31  19      NaN      NaN    NaN\n",
      "19   2020-01-31  20  27.7250  30.9950  30.46\n",
      "20   2020-01-31  21  32.4450  34.2200  33.67\n",
      "21   2020-01-31  22  33.6200  35.1550  34.74\n",
      "22   2020-01-31  23  33.0600  35.0100  34.31\n",
      "23   2020-01-31  24  33.1850  35.0100  34.30\n",
      "24   2020-01-31  25  33.4550  34.9300  34.36\n",
      "25   2020-01-31  26  33.6000  34.8125  34.32\n",
      "26   2020-01-31  27  33.9250  34.9000  34.43\n",
      "27   2020-01-31  28  33.2500  34.5700  34.17\n",
      "28   2020-01-31  29  32.7700  34.5025  34.03\n",
      "29   2020-01-31  30  31.7475  34.3900  33.42\n",
      "..          ...  ..      ...      ...    ...\n",
      "480  2020-02-05  56      NaN      NaN    NaN\n",
      "481  2020-02-05  57      NaN      NaN    NaN\n",
      "482  2020-02-05  58      NaN      NaN    NaN\n",
      "483  2020-02-05  59      NaN      NaN    NaN\n",
      "484  2020-02-05  60      NaN      NaN    NaN\n",
      "485  2020-02-05  61      NaN      NaN    NaN\n",
      "486  2020-02-05  62      NaN      NaN    NaN\n",
      "487  2020-02-05  63      NaN      NaN    NaN\n",
      "488  2020-02-05  64      NaN      NaN    NaN\n",
      "489  2020-02-05  65      NaN      NaN    NaN\n",
      "490  2020-02-05  66      NaN      NaN    NaN\n",
      "491  2020-02-05  67      NaN      NaN    NaN\n",
      "492  2020-02-05  68      NaN      NaN    NaN\n",
      "493  2020-02-05  69      NaN      NaN    NaN\n",
      "494  2020-02-05  70      NaN      NaN    NaN\n",
      "495  2020-02-05  71      NaN      NaN    NaN\n",
      "496  2020-02-05  72      NaN      NaN    NaN\n",
      "497  2020-02-05  73      NaN      NaN    NaN\n",
      "498  2020-02-05  74      NaN      NaN    NaN\n",
      "499  2020-02-05  75      NaN      NaN    NaN\n",
      "500  2020-02-05  76      NaN      NaN    NaN\n",
      "501  2020-02-05  77      NaN      NaN    NaN\n",
      "502  2020-02-05  78      NaN      NaN    NaN\n",
      "503  2020-02-05  79      NaN      NaN    NaN\n",
      "504  2020-02-05  80      NaN      NaN    NaN\n",
      "505  2020-02-05  81      NaN      NaN    NaN\n",
      "506  2020-02-05  82      NaN      NaN    NaN\n",
      "507  2020-02-05  83      NaN      NaN    NaN\n",
      "508  2020-02-05  84      NaN      NaN    NaN\n",
      "509  2020-02-05  85      NaN      NaN    NaN\n",
      "\n",
      "[510 rows x 5 columns]\n",
      "              0   1        2        3       4\n",
      "0    2020-02-06   1  34.6100  35.1000  34.820\n",
      "1    2020-02-06   2  34.7500  35.5450  35.140\n",
      "2    2020-02-06   3  34.8300  35.8350  35.330\n",
      "3    2020-02-06   4  34.7500  35.7300  35.200\n",
      "4    2020-02-06   5  34.8050  35.7600  35.350\n",
      "5    2020-02-06   6  35.0250  35.8425  35.460\n",
      "6    2020-02-06   7  35.3500  36.0700  35.710\n",
      "7    2020-02-06   8  35.3025  36.1600  35.765\n",
      "8    2020-02-06   9  35.2575  36.1400  35.680\n",
      "9    2020-02-06  10  35.1700  36.1400  35.680\n",
      "10   2020-02-06  11  34.4250  36.0800  35.590\n",
      "11   2020-02-06  12  34.5000  36.0725  35.065\n",
      "12   2020-02-06  13  34.3000  35.5800  34.700\n",
      "13   2020-02-06  14  34.0050  34.8875  34.430\n",
      "14   2020-02-06  15  33.9875  34.6925  34.380\n",
      "15   2020-02-06  16  34.0650  34.7825  34.410\n",
      "16   2020-02-06  17  34.2775  35.0600  34.580\n",
      "17   2020-02-06  18  34.2775  35.3525  34.640\n",
      "18   2020-02-06  19  34.3750  35.4800  35.150\n",
      "19   2020-02-06  20  34.3575  35.4800  35.180\n",
      "20   2020-02-06  21  34.0575  35.5400  35.235\n",
      "21   2020-02-06  22  34.5100  35.5500  35.260\n",
      "22   2020-02-06  23  34.5100  35.5700  35.270\n",
      "23   2020-02-06  24  34.3575  35.4900  35.210\n",
      "24   2020-02-06  25  34.3150  35.3525  34.940\n",
      "25   2020-02-06  26  34.5775  35.6200  35.215\n",
      "26   2020-02-06  27  34.9200  35.9500  35.370\n",
      "27   2020-02-06  28  34.9800  35.9600  35.770\n",
      "28   2020-02-06  29  34.8475  35.9525  35.760\n",
      "29   2020-02-06  30  35.0975  35.9525  35.760\n",
      "..          ...  ..      ...      ...     ...\n",
      "565  2020-02-05  56  33.4200  36.4325  34.960\n",
      "566  2020-02-05  57  32.3875  36.4200  33.920\n",
      "567  2020-02-05  58  32.3875  34.5300  32.955\n",
      "568  2020-02-05  59  32.1225  33.4200  32.590\n",
      "569  2020-02-05  60  31.8875  32.7725  32.355\n",
      "570  2020-02-05  61  31.8875  32.7000  32.320\n",
      "571  2020-02-05  62  32.0600  32.7725  32.415\n",
      "572  2020-02-05  63  32.0800  32.7900  32.470\n",
      "573  2020-02-05  64  31.9700  32.7400  32.280\n",
      "574  2020-02-05  65  31.7500  32.7400  32.190\n",
      "575  2020-02-05  66  31.6500  32.7250  32.100\n",
      "576  2020-02-05  67  31.5100  32.3200  31.890\n",
      "577  2020-02-05  68  31.5100  32.3100  31.890\n",
      "578  2020-02-05  69  31.5200  32.6150  31.940\n",
      "579  2020-02-05  70  31.5200  33.3650  31.990\n",
      "580  2020-02-05  71  31.6425  33.4150  32.195\n",
      "581  2020-02-05  72  32.0000  34.0500  32.980\n",
      "582  2020-02-05  73  32.3950  34.3300  33.560\n",
      "583  2020-02-05  74  32.9550  34.3700  33.900\n",
      "584  2020-02-05  75  32.5350  34.4150  33.710\n",
      "585  2020-02-05  76  32.2800  34.4750  33.710\n",
      "586  2020-02-05  77  34.1000  35.0975  34.480\n",
      "587  2020-02-05  78  34.3825  35.2600  34.905\n",
      "588  2020-02-05  79  34.5050  35.4375  34.930\n",
      "589  2020-02-05  80  34.5600  35.3900  34.970\n",
      "590  2020-02-05  81  34.5400  35.3275  34.940\n",
      "591  2020-02-05  82  34.6850  35.6600  35.110\n",
      "592  2020-02-05  83  34.5950  35.6800  35.100\n",
      "593  2020-02-05  84  34.3650  35.6800  34.980\n",
      "594  2020-02-05  85  33.3400  35.4625  34.540\n",
      "\n",
      "[595 rows x 5 columns]\n",
      "              0   1        2        3       4\n",
      "0    2020-01-25   1      NaN      NaN     NaN\n",
      "1    2020-01-25   2      NaN      NaN     NaN\n",
      "2    2020-01-25   3      NaN      NaN     NaN\n",
      "3    2020-01-25   4      NaN      NaN     NaN\n",
      "4    2020-01-25   5      NaN      NaN     NaN\n",
      "5    2020-01-25   6      NaN      NaN     NaN\n",
      "6    2020-01-25   7      NaN      NaN     NaN\n",
      "7    2020-01-25   8      NaN      NaN     NaN\n",
      "8    2020-01-25   9      NaN      NaN     NaN\n",
      "9    2020-01-25  10      NaN      NaN     NaN\n",
      "10   2020-01-25  11      NaN      NaN     NaN\n",
      "11   2020-01-25  12      NaN      NaN     NaN\n",
      "12   2020-01-25  13      NaN      NaN     NaN\n",
      "13   2020-01-25  14      NaN      NaN     NaN\n",
      "14   2020-01-25  15      NaN      NaN     NaN\n",
      "15   2020-01-25  16      NaN      NaN     NaN\n",
      "16   2020-01-25  17      NaN      NaN     NaN\n",
      "17   2020-01-25  18      NaN      NaN     NaN\n",
      "18   2020-01-25  19      NaN      NaN     NaN\n",
      "19   2020-01-25  20      NaN      NaN     NaN\n",
      "20   2020-01-25  21  26.0900  26.9400  26.300\n",
      "21   2020-01-25  22  26.1950  27.6750  26.940\n",
      "22   2020-01-25  23  26.1950  27.6750  26.940\n",
      "23   2020-01-25  24  26.1950  27.6750  26.940\n",
      "24   2020-01-25  25  26.1950  27.6750  26.940\n",
      "25   2020-01-25  26  26.1950  27.6750  26.940\n",
      "26   2020-01-25  27  27.9600  27.9600  27.960\n",
      "27   2020-01-25  28  31.5250  33.7550  33.375\n",
      "28   2020-01-25  29  33.4525  34.5525  33.945\n",
      "29   2020-01-25  30  33.8600  34.9600  34.625\n",
      "..          ...  ..      ...      ...     ...\n",
      "310  2020-01-28  56      NaN      NaN     NaN\n",
      "311  2020-01-28  57      NaN      NaN     NaN\n",
      "312  2020-01-28  58      NaN      NaN     NaN\n",
      "313  2020-01-28  59      NaN      NaN     NaN\n",
      "314  2020-01-28  60      NaN      NaN     NaN\n",
      "315  2020-01-28  61      NaN      NaN     NaN\n",
      "316  2020-01-28  62      NaN      NaN     NaN\n",
      "317  2020-01-28  63      NaN      NaN     NaN\n",
      "318  2020-01-28  64      NaN      NaN     NaN\n",
      "319  2020-01-28  65      NaN      NaN     NaN\n",
      "320  2020-01-28  66      NaN      NaN     NaN\n",
      "321  2020-01-28  67      NaN      NaN     NaN\n",
      "322  2020-01-28  68      NaN      NaN     NaN\n",
      "323  2020-01-28  69      NaN      NaN     NaN\n",
      "324  2020-01-28  70      NaN      NaN     NaN\n",
      "325  2020-01-28  71      NaN      NaN     NaN\n",
      "326  2020-01-28  72      NaN      NaN     NaN\n",
      "327  2020-01-28  73      NaN      NaN     NaN\n",
      "328  2020-01-28  74      NaN      NaN     NaN\n",
      "329  2020-01-28  75      NaN      NaN     NaN\n",
      "330  2020-01-28  76      NaN      NaN     NaN\n",
      "331  2020-01-28  77      NaN      NaN     NaN\n",
      "332  2020-01-28  78      NaN      NaN     NaN\n",
      "333  2020-01-28  79      NaN      NaN     NaN\n",
      "334  2020-01-28  80      NaN      NaN     NaN\n",
      "335  2020-01-28  81      NaN      NaN     NaN\n",
      "336  2020-01-28  82      NaN      NaN     NaN\n",
      "337  2020-01-28  83      NaN      NaN     NaN\n",
      "338  2020-01-28  84      NaN      NaN     NaN\n",
      "339  2020-01-28  85      NaN      NaN     NaN\n",
      "\n",
      "[340 rows x 5 columns]\n",
      "              0   1        2      3      4\n",
      "0    2020-01-24   1      NaN    NaN    NaN\n",
      "1    2020-01-24   2      NaN    NaN    NaN\n",
      "2    2020-01-24   3      NaN    NaN    NaN\n",
      "3    2020-01-24   4      NaN    NaN    NaN\n",
      "4    2020-01-24   5      NaN    NaN    NaN\n",
      "5    2020-01-24   6      NaN    NaN    NaN\n",
      "6    2020-01-24   7      NaN    NaN    NaN\n",
      "7    2020-01-24   8      NaN    NaN    NaN\n",
      "8    2020-01-24   9      NaN    NaN    NaN\n",
      "9    2020-01-24  10      NaN    NaN    NaN\n",
      "10   2020-01-24  11      NaN    NaN    NaN\n",
      "11   2020-01-24  12      NaN    NaN    NaN\n",
      "12   2020-01-24  13      NaN    NaN    NaN\n",
      "13   2020-01-24  14      NaN    NaN    NaN\n",
      "14   2020-01-24  15      NaN    NaN    NaN\n",
      "15   2020-01-24  16      NaN    NaN    NaN\n",
      "16   2020-01-24  17      NaN    NaN    NaN\n",
      "17   2020-01-24  18      NaN    NaN    NaN\n",
      "18   2020-01-24  19      NaN    NaN    NaN\n",
      "19   2020-01-24  20      NaN    NaN    NaN\n",
      "20   2020-01-24  21      NaN    NaN    NaN\n",
      "21   2020-01-24  22      NaN    NaN    NaN\n",
      "22   2020-01-24  23      NaN    NaN    NaN\n",
      "23   2020-01-24  24      NaN    NaN    NaN\n",
      "24   2020-01-24  25      NaN    NaN    NaN\n",
      "25   2020-01-24  26      NaN    NaN    NaN\n",
      "26   2020-01-24  27      NaN    NaN    NaN\n",
      "27   2020-01-24  28  28.7025  31.66  30.06\n",
      "28   2020-01-24  29  32.9200  33.86  33.70\n",
      "29   2020-01-24  30  33.3500  33.80  33.67\n",
      "..          ...  ..      ...    ...    ...\n",
      "565  2020-01-30  56      NaN    NaN    NaN\n",
      "566  2020-01-30  57      NaN    NaN    NaN\n",
      "567  2020-01-30  58      NaN    NaN    NaN\n",
      "568  2020-01-30  59      NaN    NaN    NaN\n",
      "569  2020-01-30  60      NaN    NaN    NaN\n",
      "570  2020-01-30  61      NaN    NaN    NaN\n",
      "571  2020-01-30  62      NaN    NaN    NaN\n",
      "572  2020-01-30  63      NaN    NaN    NaN\n",
      "573  2020-01-30  64      NaN    NaN    NaN\n",
      "574  2020-01-30  65      NaN    NaN    NaN\n",
      "575  2020-01-30  66      NaN    NaN    NaN\n",
      "576  2020-01-30  67      NaN    NaN    NaN\n",
      "577  2020-01-30  68      NaN    NaN    NaN\n",
      "578  2020-01-30  69      NaN    NaN    NaN\n",
      "579  2020-01-30  70      NaN    NaN    NaN\n",
      "580  2020-01-30  71      NaN    NaN    NaN\n",
      "581  2020-01-30  72      NaN    NaN    NaN\n",
      "582  2020-01-30  73      NaN    NaN    NaN\n",
      "583  2020-01-30  74      NaN    NaN    NaN\n",
      "584  2020-01-30  75      NaN    NaN    NaN\n",
      "585  2020-01-30  76      NaN    NaN    NaN\n",
      "586  2020-01-30  77      NaN    NaN    NaN\n",
      "587  2020-01-30  78      NaN    NaN    NaN\n",
      "588  2020-01-30  79      NaN    NaN    NaN\n",
      "589  2020-01-30  80      NaN    NaN    NaN\n",
      "590  2020-01-30  81      NaN    NaN    NaN\n",
      "591  2020-01-30  82      NaN    NaN    NaN\n",
      "592  2020-01-30  83      NaN    NaN    NaN\n",
      "593  2020-01-30  84      NaN    NaN    NaN\n",
      "594  2020-01-30  85      NaN    NaN    NaN\n",
      "\n",
      "[595 rows x 5 columns]\n",
      "              0   1        2        3       4\n",
      "0    2020-02-06   1      NaN      NaN     NaN\n",
      "1    2020-02-06   2      NaN      NaN     NaN\n",
      "2    2020-02-06   3      NaN      NaN     NaN\n",
      "3    2020-02-06   4      NaN      NaN     NaN\n",
      "4    2020-02-06   5      NaN      NaN     NaN\n",
      "5    2020-02-06   6      NaN      NaN     NaN\n",
      "6    2020-02-06   7  25.4550  25.8100  25.690\n",
      "7    2020-02-06   8  25.4825  25.8225  25.735\n",
      "8    2020-02-06   9  25.4825  25.8225  25.735\n",
      "9    2020-02-06  10  25.4825  25.8225  25.735\n",
      "10   2020-02-06  11  25.4825  25.8225  25.735\n",
      "11   2020-02-06  12  25.4825  25.8225  25.735\n",
      "12   2020-02-06  13  25.9500  25.9500  25.950\n",
      "13   2020-02-06  14  25.8300  25.8300  25.830\n",
      "14   2020-02-06  15  26.2275  27.0225  26.625\n",
      "15   2020-02-06  16  26.2275  27.0225  26.625\n",
      "16   2020-02-06  17  26.2275  27.0225  26.625\n",
      "17   2020-02-06  18  26.2275  27.0225  26.625\n",
      "18   2020-02-06  19  26.6250  27.6250  27.420\n",
      "19   2020-02-06  20  27.5225  27.7275  27.625\n",
      "20   2020-02-06  21  27.8300  27.8300  27.830\n",
      "21   2020-02-06  22  27.8300  27.8300  27.830\n",
      "22   2020-02-06  23  28.7300  29.5700  28.950\n",
      "23   2020-02-06  24  28.8500  30.2700  29.430\n",
      "24   2020-02-06  25  28.9300  29.8225  29.245\n",
      "25   2020-02-06  26  29.0975  29.7125  29.405\n",
      "26   2020-02-06  27  29.1900  30.3550  29.570\n",
      "27   2020-02-06  28  29.2600  30.9325  29.715\n",
      "28   2020-02-06  29  29.4300  31.1700  30.410\n",
      "29   2020-02-06  30  29.6175  31.2700  30.965\n",
      "..          ...  ..      ...      ...     ...\n",
      "395  2020-02-10  56      NaN      NaN     NaN\n",
      "396  2020-02-10  57      NaN      NaN     NaN\n",
      "397  2020-02-10  58      NaN      NaN     NaN\n",
      "398  2020-02-10  59      NaN      NaN     NaN\n",
      "399  2020-02-10  60      NaN      NaN     NaN\n",
      "400  2020-02-10  61      NaN      NaN     NaN\n",
      "401  2020-02-10  62      NaN      NaN     NaN\n",
      "402  2020-02-10  63      NaN      NaN     NaN\n",
      "403  2020-02-10  64      NaN      NaN     NaN\n",
      "404  2020-02-10  65      NaN      NaN     NaN\n",
      "405  2020-02-10  66      NaN      NaN     NaN\n",
      "406  2020-02-10  67      NaN      NaN     NaN\n",
      "407  2020-02-10  68      NaN      NaN     NaN\n",
      "408  2020-02-10  69      NaN      NaN     NaN\n",
      "409  2020-02-10  70      NaN      NaN     NaN\n",
      "410  2020-02-10  71      NaN      NaN     NaN\n",
      "411  2020-02-10  72      NaN      NaN     NaN\n",
      "412  2020-02-10  73      NaN      NaN     NaN\n",
      "413  2020-02-10  74      NaN      NaN     NaN\n",
      "414  2020-02-10  75      NaN      NaN     NaN\n",
      "415  2020-02-10  76      NaN      NaN     NaN\n",
      "416  2020-02-10  77      NaN      NaN     NaN\n",
      "417  2020-02-10  78      NaN      NaN     NaN\n",
      "418  2020-02-10  79      NaN      NaN     NaN\n",
      "419  2020-02-10  80      NaN      NaN     NaN\n",
      "420  2020-02-10  81      NaN      NaN     NaN\n",
      "421  2020-02-10  82      NaN      NaN     NaN\n",
      "422  2020-02-10  83      NaN      NaN     NaN\n",
      "423  2020-02-10  84      NaN      NaN     NaN\n",
      "424  2020-02-10  85      NaN      NaN     NaN\n",
      "\n",
      "[425 rows x 5 columns]\n",
      "              0   1       2        3       4\n",
      "0    2020-01-25   1     NaN      NaN     NaN\n",
      "1    2020-01-25   2     NaN      NaN     NaN\n",
      "2    2020-01-25   3     NaN      NaN     NaN\n",
      "3    2020-01-25   4     NaN      NaN     NaN\n",
      "4    2020-01-25   5     NaN      NaN     NaN\n",
      "5    2020-01-25   6     NaN      NaN     NaN\n",
      "6    2020-01-25   7     NaN      NaN     NaN\n",
      "7    2020-01-25   8     NaN      NaN     NaN\n",
      "8    2020-01-25   9     NaN      NaN     NaN\n",
      "9    2020-01-25  10     NaN      NaN     NaN\n",
      "10   2020-01-25  11     NaN      NaN     NaN\n",
      "11   2020-01-25  12     NaN      NaN     NaN\n",
      "12   2020-01-25  13     NaN      NaN     NaN\n",
      "13   2020-01-25  14     NaN      NaN     NaN\n",
      "14   2020-01-25  15     NaN      NaN     NaN\n",
      "15   2020-01-25  16     NaN      NaN     NaN\n",
      "16   2020-01-25  17     NaN      NaN     NaN\n",
      "17   2020-01-25  18     NaN      NaN     NaN\n",
      "18   2020-01-25  19     NaN      NaN     NaN\n",
      "19   2020-01-25  20     NaN      NaN     NaN\n",
      "20   2020-01-25  21  25.195  25.9500  25.320\n",
      "21   2020-01-25  22  25.180  26.1200  25.320\n",
      "22   2020-01-25  23  25.180  26.1200  25.320\n",
      "23   2020-01-25  24  25.720  31.3175  29.510\n",
      "24   2020-01-25  25  29.430  32.8775  31.655\n",
      "25   2020-01-25  26  30.570  33.2000  32.805\n",
      "26   2020-01-25  27  32.220  33.2650  33.140\n",
      "27   2020-01-25  28  32.530  33.2400  33.060\n",
      "28   2020-01-25  29  32.160  33.2100  32.970\n",
      "29   2020-01-25  30  32.140  33.2025  32.950\n",
      "..          ...  ..     ...      ...     ...\n",
      "565  2020-01-31  56     NaN      NaN     NaN\n",
      "566  2020-01-31  57     NaN      NaN     NaN\n",
      "567  2020-01-31  58     NaN      NaN     NaN\n",
      "568  2020-01-31  59     NaN      NaN     NaN\n",
      "569  2020-01-31  60     NaN      NaN     NaN\n",
      "570  2020-01-31  61     NaN      NaN     NaN\n",
      "571  2020-01-31  62     NaN      NaN     NaN\n",
      "572  2020-01-31  63     NaN      NaN     NaN\n",
      "573  2020-01-31  64     NaN      NaN     NaN\n",
      "574  2020-01-31  65     NaN      NaN     NaN\n",
      "575  2020-01-31  66     NaN      NaN     NaN\n",
      "576  2020-01-31  67     NaN      NaN     NaN\n",
      "577  2020-01-31  68     NaN      NaN     NaN\n",
      "578  2020-01-31  69     NaN      NaN     NaN\n",
      "579  2020-01-31  70     NaN      NaN     NaN\n",
      "580  2020-01-31  71     NaN      NaN     NaN\n",
      "581  2020-01-31  72     NaN      NaN     NaN\n",
      "582  2020-01-31  73     NaN      NaN     NaN\n",
      "583  2020-01-31  74     NaN      NaN     NaN\n",
      "584  2020-01-31  75     NaN      NaN     NaN\n",
      "585  2020-01-31  76     NaN      NaN     NaN\n",
      "586  2020-01-31  77     NaN      NaN     NaN\n",
      "587  2020-01-31  78     NaN      NaN     NaN\n",
      "588  2020-01-31  79     NaN      NaN     NaN\n",
      "589  2020-01-31  80     NaN      NaN     NaN\n",
      "590  2020-01-31  81     NaN      NaN     NaN\n",
      "591  2020-01-31  82     NaN      NaN     NaN\n",
      "592  2020-01-31  83     NaN      NaN     NaN\n",
      "593  2020-01-31  84     NaN      NaN     NaN\n",
      "594  2020-01-31  85     NaN      NaN     NaN\n",
      "\n",
      "[595 rows x 5 columns]\n",
      "              0   1       2       3      4\n",
      "0    2020-01-25   1     NaN     NaN    NaN\n",
      "1    2020-01-25   2     NaN     NaN    NaN\n",
      "2    2020-01-25   3     NaN     NaN    NaN\n",
      "3    2020-01-25   4     NaN     NaN    NaN\n",
      "4    2020-01-25   5     NaN     NaN    NaN\n",
      "5    2020-01-25   6     NaN     NaN    NaN\n",
      "6    2020-01-25   7     NaN     NaN    NaN\n",
      "7    2020-01-25   8     NaN     NaN    NaN\n",
      "8    2020-01-25   9     NaN     NaN    NaN\n",
      "9    2020-01-25  10     NaN     NaN    NaN\n",
      "10   2020-01-25  11     NaN     NaN    NaN\n",
      "11   2020-01-25  12     NaN     NaN    NaN\n",
      "12   2020-01-25  13     NaN     NaN    NaN\n",
      "13   2020-01-25  14     NaN     NaN    NaN\n",
      "14   2020-01-25  15     NaN     NaN    NaN\n",
      "15   2020-01-25  16     NaN     NaN    NaN\n",
      "16   2020-01-25  17     NaN     NaN    NaN\n",
      "17   2020-01-25  18     NaN     NaN    NaN\n",
      "18   2020-01-25  19     NaN     NaN    NaN\n",
      "19   2020-01-25  20     NaN     NaN    NaN\n",
      "20   2020-01-25  21  26.610  30.330  28.05\n",
      "21   2020-01-25  22  26.470  29.660  27.68\n",
      "22   2020-01-25  23  26.470  29.660  27.68\n",
      "23   2020-01-25  24  26.470  29.660  27.68\n",
      "24   2020-01-25  25  26.470  29.660  27.68\n",
      "25   2020-01-25  26  26.470  29.660  27.68\n",
      "26   2020-01-25  27  25.565  26.175  25.87\n",
      "27   2020-01-25  28     NaN     NaN    NaN\n",
      "28   2020-01-25  29     NaN     NaN    NaN\n",
      "29   2020-01-25  30     NaN     NaN    NaN\n",
      "..          ...  ..     ...     ...    ...\n",
      "480  2020-01-30  56     NaN     NaN    NaN\n",
      "481  2020-01-30  57     NaN     NaN    NaN\n",
      "482  2020-01-30  58     NaN     NaN    NaN\n",
      "483  2020-01-30  59     NaN     NaN    NaN\n",
      "484  2020-01-30  60     NaN     NaN    NaN\n",
      "485  2020-01-30  61     NaN     NaN    NaN\n",
      "486  2020-01-30  62     NaN     NaN    NaN\n",
      "487  2020-01-30  63     NaN     NaN    NaN\n",
      "488  2020-01-30  64     NaN     NaN    NaN\n",
      "489  2020-01-30  65     NaN     NaN    NaN\n",
      "490  2020-01-30  66     NaN     NaN    NaN\n",
      "491  2020-01-30  67     NaN     NaN    NaN\n",
      "492  2020-01-30  68     NaN     NaN    NaN\n",
      "493  2020-01-30  69     NaN     NaN    NaN\n",
      "494  2020-01-30  70     NaN     NaN    NaN\n",
      "495  2020-01-30  71     NaN     NaN    NaN\n",
      "496  2020-01-30  72     NaN     NaN    NaN\n",
      "497  2020-01-30  73     NaN     NaN    NaN\n",
      "498  2020-01-30  74     NaN     NaN    NaN\n",
      "499  2020-01-30  75     NaN     NaN    NaN\n",
      "500  2020-01-30  76     NaN     NaN    NaN\n",
      "501  2020-01-30  77     NaN     NaN    NaN\n",
      "502  2020-01-30  78     NaN     NaN    NaN\n",
      "503  2020-01-30  79     NaN     NaN    NaN\n",
      "504  2020-01-30  80     NaN     NaN    NaN\n",
      "505  2020-01-30  81     NaN     NaN    NaN\n",
      "506  2020-01-30  82     NaN     NaN    NaN\n",
      "507  2020-01-30  83     NaN     NaN    NaN\n",
      "508  2020-01-30  84     NaN     NaN    NaN\n",
      "509  2020-01-30  85     NaN     NaN    NaN\n",
      "\n",
      "[510 rows x 5 columns]\n"
     ]
    },
    {
     "data": {
      "text/plain": [
       "<Figure size 1080x576 with 0 Axes>"
      ]
     },
     "metadata": {},
     "output_type": "display_data"
    },
    {
     "data": {
      "text/plain": [
       "<Figure size 1080x576 with 0 Axes>"
      ]
     },
     "metadata": {},
     "output_type": "display_data"
    },
    {
     "data": {
      "text/plain": [
       "<Figure size 1080x576 with 0 Axes>"
      ]
     },
     "metadata": {},
     "output_type": "display_data"
    },
    {
     "data": {
      "text/plain": [
       "<Figure size 1080x576 with 0 Axes>"
      ]
     },
     "metadata": {},
     "output_type": "display_data"
    },
    {
     "data": {
      "text/plain": [
       "<Figure size 1080x576 with 0 Axes>"
      ]
     },
     "metadata": {},
     "output_type": "display_data"
    },
    {
     "data": {
      "text/plain": [
       "<Figure size 1080x576 with 0 Axes>"
      ]
     },
     "metadata": {},
     "output_type": "display_data"
    },
    {
     "data": {
      "text/plain": [
       "<Figure size 1080x576 with 0 Axes>"
      ]
     },
     "metadata": {},
     "output_type": "display_data"
    },
    {
     "data": {
      "text/plain": [
       "<Figure size 1080x576 with 0 Axes>"
      ]
     },
     "metadata": {},
     "output_type": "display_data"
    },
    {
     "data": {
      "text/plain": [
       "<Figure size 1080x576 with 0 Axes>"
      ]
     },
     "metadata": {},
     "output_type": "display_data"
    },
    {
     "data": {
      "text/plain": [
       "<Figure size 1080x576 with 0 Axes>"
      ]
     },
     "metadata": {},
     "output_type": "display_data"
    },
    {
     "data": {
      "text/plain": [
       "<Figure size 1080x576 with 0 Axes>"
      ]
     },
     "metadata": {},
     "output_type": "display_data"
    },
    {
     "data": {
      "text/plain": [
       "<Figure size 1080x576 with 0 Axes>"
      ]
     },
     "metadata": {},
     "output_type": "display_data"
    },
    {
     "data": {
      "text/plain": [
       "<Figure size 1080x576 with 0 Axes>"
      ]
     },
     "metadata": {},
     "output_type": "display_data"
    },
    {
     "data": {
      "text/plain": [
       "<Figure size 1080x576 with 0 Axes>"
      ]
     },
     "metadata": {},
     "output_type": "display_data"
    },
    {
     "data": {
      "text/plain": [
       "<Figure size 1080x576 with 0 Axes>"
      ]
     },
     "metadata": {},
     "output_type": "display_data"
    },
    {
     "data": {
      "text/plain": [
       "<Figure size 1080x576 with 0 Axes>"
      ]
     },
     "metadata": {},
     "output_type": "display_data"
    },
    {
     "data": {
      "text/plain": [
       "<Figure size 1080x576 with 0 Axes>"
      ]
     },
     "metadata": {},
     "output_type": "display_data"
    },
    {
     "data": {
      "text/plain": [
       "<Figure size 1080x576 with 0 Axes>"
      ]
     },
     "metadata": {},
     "output_type": "display_data"
    },
    {
     "data": {
      "text/plain": [
       "<Figure size 1080x576 with 0 Axes>"
      ]
     },
     "metadata": {},
     "output_type": "display_data"
    },
    {
     "data": {
      "text/plain": [
       "<Figure size 1080x576 with 0 Axes>"
      ]
     },
     "metadata": {},
     "output_type": "display_data"
    },
    {
     "data": {
      "text/plain": [
       "<Figure size 1080x576 with 0 Axes>"
      ]
     },
     "metadata": {},
     "output_type": "display_data"
    },
    {
     "data": {
      "text/plain": [
       "<Figure size 1080x576 with 0 Axes>"
      ]
     },
     "metadata": {},
     "output_type": "display_data"
    },
    {
     "data": {
      "text/plain": [
       "<Figure size 1080x576 with 0 Axes>"
      ]
     },
     "metadata": {},
     "output_type": "display_data"
    },
    {
     "data": {
      "text/plain": [
       "<Figure size 1080x576 with 0 Axes>"
      ]
     },
     "metadata": {},
     "output_type": "display_data"
    },
    {
     "data": {
      "text/plain": [
       "<Figure size 1080x576 with 0 Axes>"
      ]
     },
     "metadata": {},
     "output_type": "display_data"
    },
    {
     "data": {
      "text/plain": [
       "<Figure size 1080x576 with 0 Axes>"
      ]
     },
     "metadata": {},
     "output_type": "display_data"
    },
    {
     "data": {
      "text/plain": [
       "<Figure size 1080x576 with 0 Axes>"
      ]
     },
     "metadata": {},
     "output_type": "display_data"
    },
    {
     "data": {
      "text/plain": [
       "<Figure size 1080x576 with 0 Axes>"
      ]
     },
     "metadata": {},
     "output_type": "display_data"
    },
    {
     "data": {
      "text/plain": [
       "<Figure size 1080x576 with 0 Axes>"
      ]
     },
     "metadata": {},
     "output_type": "display_data"
    },
    {
     "data": {
      "text/plain": [
       "<Figure size 1080x576 with 0 Axes>"
      ]
     },
     "metadata": {},
     "output_type": "display_data"
    },
    {
     "data": {
      "text/plain": [
       "<Figure size 1080x576 with 0 Axes>"
      ]
     },
     "metadata": {},
     "output_type": "display_data"
    },
    {
     "data": {
      "text/plain": [
       "<Figure size 1080x576 with 0 Axes>"
      ]
     },
     "metadata": {},
     "output_type": "display_data"
    },
    {
     "data": {
      "text/plain": [
       "<Figure size 1080x576 with 0 Axes>"
      ]
     },
     "metadata": {},
     "output_type": "display_data"
    },
    {
     "data": {
      "text/plain": [
       "<Figure size 1080x576 with 0 Axes>"
      ]
     },
     "metadata": {},
     "output_type": "display_data"
    },
    {
     "data": {
      "text/plain": [
       "<Figure size 1080x576 with 0 Axes>"
      ]
     },
     "metadata": {},
     "output_type": "display_data"
    },
    {
     "data": {
      "text/plain": [
       "<Figure size 1080x576 with 0 Axes>"
      ]
     },
     "metadata": {},
     "output_type": "display_data"
    },
    {
     "data": {
      "text/plain": [
       "<Figure size 1080x576 with 0 Axes>"
      ]
     },
     "metadata": {},
     "output_type": "display_data"
    },
    {
     "data": {
      "text/plain": [
       "<Figure size 1080x576 with 0 Axes>"
      ]
     },
     "metadata": {},
     "output_type": "display_data"
    },
    {
     "data": {
      "text/plain": [
       "<Figure size 1080x576 with 0 Axes>"
      ]
     },
     "metadata": {},
     "output_type": "display_data"
    },
    {
     "data": {
      "text/plain": [
       "<Figure size 1080x576 with 0 Axes>"
      ]
     },
     "metadata": {},
     "output_type": "display_data"
    },
    {
     "data": {
      "text/plain": [
       "<Figure size 1080x576 with 0 Axes>"
      ]
     },
     "metadata": {},
     "output_type": "display_data"
    },
    {
     "data": {
      "text/plain": [
       "<Figure size 1080x576 with 0 Axes>"
      ]
     },
     "metadata": {},
     "output_type": "display_data"
    },
    {
     "data": {
      "text/plain": [
       "<Figure size 1080x576 with 0 Axes>"
      ]
     },
     "metadata": {},
     "output_type": "display_data"
    },
    {
     "data": {
      "text/plain": [
       "<Figure size 1080x576 with 0 Axes>"
      ]
     },
     "metadata": {},
     "output_type": "display_data"
    },
    {
     "data": {
      "text/plain": [
       "<Figure size 1080x576 with 0 Axes>"
      ]
     },
     "metadata": {},
     "output_type": "display_data"
    },
    {
     "data": {
      "text/plain": [
       "<Figure size 1080x576 with 0 Axes>"
      ]
     },
     "metadata": {},
     "output_type": "display_data"
    },
    {
     "data": {
      "text/plain": [
       "<Figure size 1080x576 with 0 Axes>"
      ]
     },
     "metadata": {},
     "output_type": "display_data"
    },
    {
     "data": {
      "text/plain": [
       "<Figure size 1080x576 with 0 Axes>"
      ]
     },
     "metadata": {},
     "output_type": "display_data"
    },
    {
     "data": {
      "text/plain": [
       "<Figure size 1080x576 with 0 Axes>"
      ]
     },
     "metadata": {},
     "output_type": "display_data"
    },
    {
     "data": {
      "text/plain": [
       "<Figure size 1080x576 with 0 Axes>"
      ]
     },
     "metadata": {},
     "output_type": "display_data"
    },
    {
     "data": {
      "text/plain": [
       "<Figure size 1080x576 with 0 Axes>"
      ]
     },
     "metadata": {},
     "output_type": "display_data"
    },
    {
     "data": {
      "text/plain": [
       "<Figure size 1080x576 with 0 Axes>"
      ]
     },
     "metadata": {},
     "output_type": "display_data"
    },
    {
     "data": {
      "text/plain": [
       "<Figure size 1080x576 with 0 Axes>"
      ]
     },
     "metadata": {},
     "output_type": "display_data"
    },
    {
     "data": {
      "text/plain": [
       "<Figure size 1080x576 with 0 Axes>"
      ]
     },
     "metadata": {},
     "output_type": "display_data"
    },
    {
     "data": {
      "text/plain": [
       "<Figure size 1080x576 with 0 Axes>"
      ]
     },
     "metadata": {},
     "output_type": "display_data"
    },
    {
     "data": {
      "text/plain": [
       "<Figure size 1080x576 with 0 Axes>"
      ]
     },
     "metadata": {},
     "output_type": "display_data"
    },
    {
     "data": {
      "text/plain": [
       "<Figure size 1080x576 with 0 Axes>"
      ]
     },
     "metadata": {},
     "output_type": "display_data"
    },
    {
     "data": {
      "text/plain": [
       "<Figure size 1080x576 with 0 Axes>"
      ]
     },
     "metadata": {},
     "output_type": "display_data"
    },
    {
     "data": {
      "text/plain": [
       "<Figure size 1080x576 with 0 Axes>"
      ]
     },
     "metadata": {},
     "output_type": "display_data"
    },
    {
     "data": {
      "text/plain": [
       "<Figure size 1080x576 with 0 Axes>"
      ]
     },
     "metadata": {},
     "output_type": "display_data"
    },
    {
     "data": {
      "text/plain": [
       "<Figure size 1080x576 with 0 Axes>"
      ]
     },
     "metadata": {},
     "output_type": "display_data"
    },
    {
     "data": {
      "text/plain": [
       "<Figure size 1080x576 with 0 Axes>"
      ]
     },
     "metadata": {},
     "output_type": "display_data"
    },
    {
     "data": {
      "text/plain": [
       "<Figure size 1080x576 with 0 Axes>"
      ]
     },
     "metadata": {},
     "output_type": "display_data"
    }
   ],
   "source": [
    "import warnings\n",
    "warnings.filterwarnings('ignore')\n",
    "\n",
    "box_plot('ICU20200211', 10)"
   ]
  },
  {
   "cell_type": "code",
   "execution_count": null,
   "metadata": {},
   "outputs": [],
   "source": [
    "# 當遇到一個檔案裡面有兩個以上的csv時 就呼叫它\n",
    "# 這裡的path需要打上病人的資料夾名稱\n",
    "# ex: path = 'ICU20200211/132'\n",
    "#     gather_csv(path)\n",
    "\n",
    "def gather_csv(path):\n",
    "    pid_list = os.listdir(path)\n",
    "    pt_info = []\n",
    "    watch_id = ''\n",
    "    \n",
    "    pid_list = [i for i in pid_list if ('check' or 'xlsx') not in i]\n",
    "    # remove useless file\n",
    "    \n",
    "    for pid in pid_list:\n",
    "        watch_id = pid[:4]\n",
    "        with open( path + '/' + pid , 'r') as f:\n",
    "            for line in f.readlines():\n",
    "                line = line.strip('\\n')\n",
    "                line = line.split(',')\n",
    "                pt_info.append(line)\n",
    "        os.remove(path+'/'+pid)\n",
    "        \n",
    "    df = pd.DataFrame(pt_info)\n",
    "    df_list = list(df.drop_duplicates(1)[1]) #用來找日期 等等才能命名\n",
    "    date_list = []\n",
    "    \n",
    "    for i in range(len(df_list)):\n",
    "        date_list.append(dt.date.today() - pd.to_datetime(df_list[i], format='%Y-%m-%d').date())\n",
    "    first = df_list[date_list.index(max(date_list))]\n",
    "    end = df_list[date_list.index(min(date_list))]\n",
    "    \n",
    "    with open( path + '/' + watch_id + '_' + first + ',' + end + '.csv', 'w', newline='') as csvfile:\n",
    "        writer = csv.writer(csvfile)\n",
    "        writer.writerows(pt_info)"
   ]
  },
  {
   "cell_type": "code",
   "execution_count": null,
   "metadata": {},
   "outputs": [],
   "source": []
  }
 ],
 "metadata": {
  "kernelspec": {
   "display_name": "Python 3",
   "language": "python",
   "name": "python3"
  },
  "language_info": {
   "codemirror_mode": {
    "name": "ipython",
    "version": 3
   },
   "file_extension": ".py",
   "mimetype": "text/x-python",
   "name": "python",
   "nbconvert_exporter": "python",
   "pygments_lexer": "ipython3",
   "version": "3.7.3"
  }
 },
 "nbformat": 4,
 "nbformat_minor": 4
}
